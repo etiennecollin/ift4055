{
 "cells": [
  {
   "cell_type": "markdown",
   "metadata": {},
   "source": [
    "## Imports"
   ]
  },
  {
   "cell_type": "code",
   "execution_count": 1,
   "metadata": {},
   "outputs": [],
   "source": [
    "import torch\n",
    "import matplotlib.pyplot as plt\n",
    "import seaborn as sns\n",
    "from transformer import *\n",
    "\n",
    "plt.rcParams.update({\n",
    "    \"text.usetex\": True,\n",
    "    \"font.family\": \"Helvetica\"\n",
    "})\n",
    "plt.rcParams['figure.dpi'] = 400\n",
    "sns.set(rc={\"figure.figsize\": (8, 4)}, style=\"whitegrid\")"
   ]
  },
  {
   "cell_type": "markdown",
   "metadata": {},
   "source": [
    "## Training"
   ]
  },
  {
   "cell_type": "code",
   "execution_count": 2,
   "metadata": {},
   "outputs": [],
   "source": [
    "# Example usage:\n",
    "dim_input = 10\n",
    "dim_hidden = 256\n",
    "dim_output = 128\n",
    "cosine_loss = False\n",
    "lr = 1e-12 if cosine_loss else 1e-4\n",
    "\n",
    "kwargs = {\n",
    "    \"num_outputs\": 8,\n",
    "    \"num_inds\": 64,\n",
    "    \"num_heads\": 8,\n",
    "    \"cosine_loss\": cosine_loss,\n",
    "    \"lr\": lr,\n",
    "    \"lr_multiplicator\": 1e-2,\n",
    "    \"tensor_length_min\": 2**2,\n",
    "    \"tensor_length_max\": 2**12,\n",
    "    \"use_deepset\": False,\n",
    "    \"dtype\": torch.float32\n",
    "}\n",
    "\n",
    "\n",
    "trainer = SetTransformerTrainer(dim_input, dim_hidden, dim_output, **kwargs)"
   ]
  },
  {
   "cell_type": "code",
   "execution_count": 3,
   "metadata": {},
   "outputs": [
    {
     "name": "stdout",
     "output_type": "stream",
     "text": [
      "_i: L2Norm of Invalid Permutations\n",
      "_v: L2Norm of Valid Permutations\n",
      "loss: Loss of model\n"
     ]
    },
    {
     "name": "stderr",
     "output_type": "stream",
     "text": [
      "Training:   3%| | 174/5000 [00:21<09:50,  8.17it/s, loss=1.307E-01, v=8.062E-02, i=5.007E-02\n"
     ]
    },
    {
     "ename": "KeyboardInterrupt",
     "evalue": "",
     "output_type": "error",
     "traceback": [
      "\u001b[0;31m---------------------------------------------------------------------------\u001b[0m",
      "\u001b[0;31mKeyboardInterrupt\u001b[0m                         Traceback (most recent call last)",
      "Cell \u001b[0;32mIn[3], line 1\u001b[0m\n\u001b[0;32m----> 1\u001b[0m losses, losses_valid_perm, losses_invalid_perm \u001b[38;5;241m=\u001b[39m \u001b[43mtrainer\u001b[49m\u001b[38;5;241;43m.\u001b[39;49m\u001b[43mtrain\u001b[49m\u001b[43m(\u001b[49m\u001b[38;5;241;43m5000\u001b[39;49m\u001b[43m)\u001b[49m\n",
      "File \u001b[0;32m~/Downloads/rl/transformer.py:118\u001b[0m, in \u001b[0;36mSetTransformerTrainer.train\u001b[0;34m(self, iterations)\u001b[0m\n\u001b[1;32m    115\u001b[0m loss\u001b[38;5;241m.\u001b[39mbackward()\n\u001b[1;32m    116\u001b[0m \u001b[38;5;28mself\u001b[39m\u001b[38;5;241m.\u001b[39moptimizer\u001b[38;5;241m.\u001b[39mstep()\n\u001b[0;32m--> 118\u001b[0m losses\u001b[38;5;241m.\u001b[39mappend(\u001b[43mloss\u001b[49m\u001b[38;5;241;43m.\u001b[39;49m\u001b[43mitem\u001b[49m\u001b[43m(\u001b[49m\u001b[43m)\u001b[49m)\n\u001b[1;32m    119\u001b[0m losses_valid_perm\u001b[38;5;241m.\u001b[39mappend(loss_valid_perm)\n\u001b[1;32m    120\u001b[0m losses_invalid_perm\u001b[38;5;241m.\u001b[39mappend(loss_invalid_perm)\n",
      "\u001b[0;31mKeyboardInterrupt\u001b[0m: "
     ]
    }
   ],
   "source": [
    "losses, losses_valid_perm, losses_invalid_perm = trainer.train(5000)"
   ]
  },
  {
   "cell_type": "code",
   "execution_count": 15,
   "metadata": {},
   "outputs": [],
   "source": [
    "trainer.load(\"./models/st_st_l2norm.torch\")"
   ]
  },
  {
   "cell_type": "code",
   "execution_count": 16,
   "metadata": {},
   "outputs": [
    {
     "name": "stdout",
     "output_type": "stream",
     "text": [
      "Testing...\n"
     ]
    },
    {
     "name": "stderr",
     "output_type": "stream",
     "text": [
      "Testing invalid permutations: 100%|██████████████████████| 500/500 [00:02<00:00, 201.91it/s]\n",
      "Testing valid permutations: 100%|████████████████████████| 500/500 [00:02<00:00, 197.65it/s]\n"
     ]
    }
   ],
   "source": [
    "trainer.test(iterations=500, perm_threshold=1, only_valid_perms=False)"
   ]
  },
  {
   "cell_type": "markdown",
   "metadata": {},
   "source": [
    "## Testing"
   ]
  },
  {
   "cell_type": "code",
   "execution_count": 13,
   "metadata": {},
   "outputs": [
    {
     "name": "stdout",
     "output_type": "stream",
     "text": [
      "0.002409805078059435\n"
     ]
    }
   ],
   "source": [
    "with torch.no_grad():\n",
    "    points_per_tensor= np.random.randint(2**2, 2**15)\n",
    "    x1, x2 = trainer.gen_data(points_per_tensor, permutation=True)\n",
    "\n",
    "    with torch.no_grad():\n",
    "        embedding_1 = trainer.model(x1).squeeze(0)\n",
    "        embedding_2 = trainer.model(x2).squeeze(0)\n",
    "    \n",
    "    l2norm = torch.nn.PairwiseDistance(p=2, eps=0)\n",
    "    \n",
    "    # nicholas = (torch.abs(torch.sum(embedding_1**2) - torch.sum(embedding_2**2))).sqrt().item()\n",
    "    l2norm_val = l2norm(embedding_1, embedding_2).item()\n",
    "    print(l2norm_val)"
   ]
  },
  {
   "cell_type": "markdown",
   "metadata": {
    "jp-MarkdownHeadingCollapsed": true
   },
   "source": [
    "## Saved Models"
   ]
  },
  {
   "cell_type": "code",
   "execution_count": null,
   "metadata": {},
   "outputs": [],
   "source": [
    "# st_nn_l2norm.torch\n",
    "\n",
    "dim_input = 10\n",
    "dim_hidden = 256\n",
    "dim_output = 128\n",
    "\n",
    "cosine_loss = False\n",
    "lr = 1e-12 if cosine_loss else 1e-20\n",
    "\n",
    "kwargs = {\n",
    "    \"cosine_loss\": cosine_loss,\n",
    "    \"lr\": lr,\n",
    "    \"lr_multiplicator\": 1e-2,\n",
    "    \"tensor_length_min\": 2**4,\n",
    "    \"tensor_length_max\": 2**15,\n",
    "    \"use_deepset\": True,\n",
    "    \"dtype\": torch.float32\n",
    "}\n",
    "\n"
   ]
  },
  {
   "cell_type": "code",
   "execution_count": null,
   "metadata": {},
   "outputs": [],
   "source": [
    "# st_st_l2norm.torch\n",
    "\n",
    "dim_input = 10\n",
    "dim_hidden = 256\n",
    "dim_output = 128\n",
    "cosine_loss = False\n",
    "lr = 1e-12 if cosine_loss else 1e-4\n",
    "\n",
    "kwargs = {\n",
    "    \"num_outputs\": 8,\n",
    "    \"num_inds\": 64,\n",
    "    \"num_heads\": 8,\n",
    "    \"cosine_loss\": cosine_loss,\n",
    "    \"lr\": lr,\n",
    "    \"lr_multiplicator\": 1e-2,\n",
    "    \"tensor_length_min\": 2**2,\n",
    "    \"tensor_length_max\": 2**12,\n",
    "    \"use_deepset\": False,\n",
    "    \"dtype\": torch.float32\n",
    "}"
   ]
  }
 ],
 "metadata": {
  "kernelspec": {
   "display_name": "Python 3 (ipykernel)",
   "language": "python",
   "name": "python3"
  },
  "language_info": {
   "codemirror_mode": {
    "name": "ipython",
    "version": 3
   },
   "file_extension": ".py",
   "mimetype": "text/x-python",
   "name": "python",
   "nbconvert_exporter": "python",
   "pygments_lexer": "ipython3",
   "version": "3.12.4"
  }
 },
 "nbformat": 4,
 "nbformat_minor": 4
}
