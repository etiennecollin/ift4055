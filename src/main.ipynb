{
 "cells": [
  {
   "cell_type": "markdown",
   "metadata": {
    "id": "l9sIQEPJ9tEu"
   },
   "source": [
    "# Continuous GFlowNets on a Simple 1D Line Environment"
   ]
  },
  {
   "cell_type": "code",
   "execution_count": null,
   "metadata": {
    "id": "M48ywoQ_9tEu"
   },
   "outputs": [],
   "source": [
    "%reload_ext autoreload\n",
    "%autoreload 2\n",
    "\n",
    "from acquisition import *\n",
    "from acquisition_env import *\n",
    "from surrogate import *\n",
    "from utils import *\n",
    "\n",
    "import torch\n",
    "import numpy as np\n",
    "import matplotlib.pyplot as plt\n",
    "import seaborn as sns\n",
    "from tqdm import trange\n",
    "\n",
    "import warnings\n",
    "warnings.filterwarnings('ignore')"
   ]
  },
  {
   "cell_type": "code",
   "execution_count": null,
   "metadata": {},
   "outputs": [],
   "source": [
    "plt.rcParams.update({\n",
    "    \"text.usetex\": True,\n",
    "    \"font.family\": \"Helvetica\",\n",
    "    \"figure.dpi\": 400,\n",
    "    \"figure.figsize\": (8, 4),\n",
    "})\n",
    "sns.set(style=\"whitegrid\")"
   ]
  },
  {
   "cell_type": "code",
   "execution_count": null,
   "metadata": {
    "id": "aK3Xr9sr9tEw"
   },
   "outputs": [],
   "source": [
    "# Loop settings\n",
    "problems = 20\n",
    "max_evals = 15\n",
    "\n",
    "# Data properties\n",
    "# These represent the estimated min and max values of x\n",
    "max_x = 15\n",
    "min_x = -max_x\n",
    "n_test_samples = 100\n",
    "\n",
    "max_graph_x = 50\n",
    "min_graph_x = -max_graph_x\n",
    "\n",
    "plot_prefix = \"gif_gfn/gif\"\n",
    "path_forward = \"./models/acq_forward_10p_20240823.torch\"\n",
    "path_backward = \"./models/acq_backward_10p_20240823.torch\"\n",
    "\n",
    "gp_kwargs = {\n",
    "    \"n_posterior_samples\": 200,\n",
    "    \"x_bounds\": None, # (min_x, max_x)\n",
    "    \"warmup_steps\": 4, # 256 or 512\n",
    "    \"num_samples\": 4, # 256 or 512\n",
    "    \"thinning\": 1, # 32\n",
    "    \"noise_scale\": 1e-12, # 1e-8\n",
    "    \"jit_compile\": True, # True\n",
    "    \"show_plot\": False,\n",
    "    \"disable_progbar\": True,\n",
    "}\n",
    "\n",
    "gp_slow_kwargs = gp_kwargs.copy()  # Copy all values from gp_fast_kwargs\n",
    "# Overwrite only the modified values\n",
    "gp_slow_kwargs.update({\n",
    "    \"n_posterior_samples\": 2000,\n",
    "    \"warmup_steps\": 256,\n",
    "    \"num_samples\": 256,\n",
    "    \"thinning\": 32,\n",
    "    \"jit_compile\": True,\n",
    "    \"show_plot\": True\n",
    "})\n",
    "\n",
    "acq_kwargs = {\n",
    "    \"training_steps\": 20, # 150\n",
    "    \"init_state_value\": 0,\n",
    "    \"state_dim\": 2,\n",
    "\t\"hid_dim\": 128,\n",
    "\t\"lr_model\": 1e-3,\n",
    "\t\"lr_logz\": 1e-2,\n",
    "\t\"min_policy_std\": 1e-2,\n",
    "\t\"max_policy_std\": 2.0,\n",
    "    \"init_explortation_noise\": 1.0,\n",
    "    \"batch_size\": 512,\n",
    "    \"inference_batch_size\": 10_000,\n",
    "    \"trajectory_length\": 10,\n",
    "}"
   ]
  },
  {
   "cell_type": "code",
   "execution_count": null,
   "metadata": {},
   "outputs": [],
   "source": [
    "generator = DataGenerator()\n",
    "acquisition = AcquisitionTrainer(**acq_kwargs)\n",
    "# acquisition.load(path_forward, path_backward)\n",
    "\n",
    "test_x = torch.linspace(min_graph_x, max_graph_x, n_test_samples).unsqueeze(-1)\n",
    "graph_x = torch.linspace(min_graph_x, max_graph_x, gp_kwargs.get(\"n_posterior_samples\", 1000)).unsqueeze(-1)\n",
    "\n",
    "for problem_i in range(problems):\n",
    "    oracle = generator.random_gaussian_mixture_pdf()\n",
    "    # generator.plot(oracle, true_x)\n",
    "\n",
    "    # Generate \"graph\" and \"test\" data\n",
    "    graph_y = oracle(graph_x)\n",
    "    test_y = oracle(test_x)\n",
    "\n",
    "    # Generate initial training data point\n",
    "    train_x = generator.random_nxm_tensor(1, 1, min_x, max_x)\n",
    "    train_y = oracle(train_x)\n",
    "\n",
    "    # Create acquisition trainer\n",
    "    env = AcqEnvironment(max_evals, test_y)\n",
    "    acquisition.set_env(env)\n",
    "\n",
    "    # Create surrogate trainer and fit it on initial data\n",
    "    surrogate = BayesianGPTrainer(train_x, train_y, graph_x, **gp_kwargs)\n",
    "    surrogate_slow = BayesianGPTrainer(train_x, train_y, graph_x, **gp_slow_kwargs)\n",
    "    surrogate.train()\n",
    "    posterior = surrogate.get_posterior()\n",
    "    gp_samples = surrogate.get_samples(posterior)\n",
    "    acquisition.env.update_prev_posterior(gp_samples)\n",
    "\n",
    "    for eval_i in range(1, max_evals):\n",
    "        plot_prefix = f\"./plots/gif_gfn_3/gfn_{problem_i:02d}_{eval_i:04d}\"\n",
    "        \n",
    "        # Train acquisition model\n",
    "        acquisition.train(surrogate, oracle, graph_x, graph_y, plot_prefix)\n",
    "\n",
    "        # Get new point\n",
    "        trajectory, new_x = acquisition.inference()\n",
    "        new_x = new_x.mean(0).cpu()\n",
    "        new_y = oracle(new_x)\n",
    "        surrogate.add_data_point(new_x, new_y)\n",
    "        surrogate_slow.add_data_point(new_x, new_y)\n",
    "\n",
    "        # Plot the surrogate\n",
    "        surrogate_slow.train()\n",
    "        posterior = surrogate_slow.get_posterior()\n",
    "        gp_samples = surrogate_slow.get_samples(posterior, mean=True)\n",
    "        acquisition.env.update_prev_posterior(gp_samples)\n",
    "        surrogate_slow.plot_gp(graph_x, graph_y, posterior, path=f\"{plot_prefix}_final.png\")\n"
   ]
  },
  {
   "cell_type": "code",
   "execution_count": null,
   "metadata": {},
   "outputs": [],
   "source": [
    "# acquisition.save(path_forward, path_backward)"
   ]
  },
  {
   "cell_type": "code",
   "execution_count": null,
   "metadata": {},
   "outputs": [],
   "source": []
  }
 ],
 "metadata": {
  "accelerator": "GPU",
  "colab": {
   "collapsed_sections": [
    "aU9XE8GjvC6U",
    "yDz8TA9mu81u",
    "zkQGJ3iwu5_K",
    "jaFX_H9Pu19Z",
    "3kLQI-8qvNut",
    "2kw8ScqU9tEw",
    "R9IGZA5JxFfX"
   ],
   "gpuType": "T4",
   "provenance": []
  },
  "kernelspec": {
   "display_name": "Python 3 (ipykernel)",
   "language": "python",
   "name": "python3"
  },
  "language_info": {
   "codemirror_mode": {
    "name": "ipython",
    "version": 3
   },
   "file_extension": ".py",
   "mimetype": "text/x-python",
   "name": "python",
   "nbconvert_exporter": "python",
   "pygments_lexer": "ipython3",
   "version": "3.12.5"
  }
 },
 "nbformat": 4,
 "nbformat_minor": 4
}
